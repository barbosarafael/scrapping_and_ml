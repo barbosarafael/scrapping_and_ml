{
 "cells": [
  {
   "cell_type": "code",
   "execution_count": 244,
   "metadata": {},
   "outputs": [],
   "source": [
    "from urllib.request import urlopen\n",
    "from bs4 import BeautifulSoup\n",
    "\n",
    "html = urlopen(\"https://www.kavak.com/br/bmw-320i-gp-turbo-2014-carros-usados-120818\")\n",
    "\n",
    "bs = BeautifulSoup(html, 'html.parser')"
   ]
  },
  {
   "cell_type": "code",
   "execution_count": 245,
   "metadata": {},
   "outputs": [
    {
     "data": {
      "text/plain": [
       "'Bmw'"
      ]
     },
     "execution_count": 245,
     "metadata": {},
     "output_type": "execute_result"
    }
   ],
   "source": [
    "marca = bs.find_all(\"span\", attrs={\"class\":'ng-star-inserted path'})[1].text.strip()\n",
    "\n",
    "marca"
   ]
  },
  {
   "cell_type": "code",
   "execution_count": 246,
   "metadata": {},
   "outputs": [
    {
     "data": {
      "text/plain": [
       "'320i'"
      ]
     },
     "execution_count": 246,
     "metadata": {},
     "output_type": "execute_result"
    }
   ],
   "source": [
    "modelo = bs.find_all(\"span\", attrs={\"class\":'ng-star-inserted path'})[2].text.strip()\n",
    "\n",
    "modelo"
   ]
  },
  {
   "cell_type": "code",
   "execution_count": 247,
   "metadata": {},
   "outputs": [
    {
     "data": {
      "text/plain": [
       "'105869'"
      ]
     },
     "execution_count": 247,
     "metadata": {},
     "output_type": "execute_result"
    }
   ],
   "source": [
    "km = bs.find_all(\"span\", attrs={\"class\":'ng-star-inserted'})[1].text.replace('km', '').replace('•', '').replace('.', '').strip()\n",
    "\n",
    "km"
   ]
  },
  {
   "cell_type": "code",
   "execution_count": 248,
   "metadata": {},
   "outputs": [
    {
     "data": {
      "text/plain": [
       "'104299'"
      ]
     },
     "execution_count": 248,
     "metadata": {},
     "output_type": "execute_result"
    }
   ],
   "source": [
    "preco = re.findall('(?<=Preço).*', bs.find_all('title')[0].text)[0].replace(': R$', '')\n",
    "\n",
    "preco"
   ]
  },
  {
   "cell_type": "code",
   "execution_count": 249,
   "metadata": {},
   "outputs": [
    {
     "data": {
      "text/plain": [
       "{'@context': 'https://schema.org/',\n",
       " '@type': 'Vehicle',\n",
       " 'name': 'Bmw 320i GP TURBO',\n",
       " 'itemCondition': 'Used',\n",
       " 'description': 'Bmw 320i GP TURBO  2014  está em perfeito estado Condição mecânica e elétrica com quilômetros baixos. É impressionante o motor turbo de . Cada viagem é uma experiência divertida. Bem atendido por um proprietário com histórico de serviço completo. Trata-se como novo e só fez 105869 KM',\n",
       " 'brand': 'Bmw',\n",
       " 'model': '320i',\n",
       " 'modelDate': '2014',\n",
       " 'manufacturer': 'Bmw',\n",
       " 'color': '',\n",
       " 'mileageFromOdometer': '105869',\n",
       " 'sku': '120818',\n",
       " 'mpn': '120818',\n",
       " 'vehicleIdentificationNumber': '120818',\n",
       " 'vehicleConfiguration': 'hp',\n",
       " 'bodyType': None,\n",
       " 'vehicleSeatingCapacity': ' pasajeros',\n",
       " 'vehicleEngine': '',\n",
       " 'vehicleTransmission': 'Automático',\n",
       " 'fueltype': '',\n",
       " 'offers': {'@type': 'Offer',\n",
       "  'url': 'https://www.kavak.com/br/bmw-320i-gp-turbo-2014-carros-usados-120818',\n",
       "  'priceCurrency': 'MXN',\n",
       "  'price': '104299',\n",
       "  'priceValidUntil': 'January 1, 2030',\n",
       "  'availability': 'https://schema.org/InStock'},\n",
       " 'aggregateRating': {'@type': 'AggregateRating',\n",
       "  'ratingValue': '4.75',\n",
       "  'reviewCount': '119'},\n",
       " 'review': {'@type': 'Review',\n",
       "  'reviewRating': {'@type': 'Rating',\n",
       "   'ratingValue': '4',\n",
       "   'bestRating': '5',\n",
       "   'worstRating': '1'},\n",
       "  'author': {'@type': 'Organization', 'name': 'Kavak'}}}"
      ]
     },
     "execution_count": 249,
     "metadata": {},
     "output_type": "execute_result"
    }
   ],
   "source": [
    "#--- JSON\n",
    "\n",
    "import json\n",
    "\n",
    "res = bs.find('script', attrs={\"id\":'vip-snippet'})\n",
    "json_object = json.loads(res.contents[0])\n",
    "\n",
    "json_object"
   ]
  },
  {
   "cell_type": "code",
   "execution_count": 250,
   "metadata": {},
   "outputs": [
    {
     "data": {
      "text/plain": [
       "{'@context': 'https://schema.org/',\n",
       " '@type': 'Vehicle',\n",
       " 'name': 'Bmw 320i GP TURBO',\n",
       " 'itemCondition': 'Used',\n",
       " 'description': 'Bmw 320i GP TURBO  2014  está em perfeito estado Condição mecânica e elétrica com quilômetros baixos. É impressionante o motor turbo de . Cada viagem é uma experiência divertida. Bem atendido por um proprietário com histórico de serviço completo. Trata-se como novo e só fez 105869 KM',\n",
       " 'brand': 'Bmw',\n",
       " 'model': '320i',\n",
       " 'modelDate': '2014',\n",
       " 'manufacturer': 'Bmw',\n",
       " 'color': '',\n",
       " 'mileageFromOdometer': '105869',\n",
       " 'sku': '120818',\n",
       " 'mpn': '120818',\n",
       " 'vehicleIdentificationNumber': '120818',\n",
       " 'vehicleConfiguration': 'hp',\n",
       " 'bodyType': None,\n",
       " 'vehicleSeatingCapacity': ' pasajeros',\n",
       " 'vehicleEngine': '',\n",
       " 'vehicleTransmission': 'Automático',\n",
       " 'fueltype': '',\n",
       " 'offers': {'@type': 'Offer',\n",
       "  'url': 'https://www.kavak.com/br/bmw-320i-gp-turbo-2014-carros-usados-120818',\n",
       "  'priceCurrency': 'MXN',\n",
       "  'price': '104299',\n",
       "  'priceValidUntil': 'January 1, 2030',\n",
       "  'availability': 'https://schema.org/InStock'},\n",
       " 'aggregateRating': {'@type': 'AggregateRating',\n",
       "  'ratingValue': '4.75',\n",
       "  'reviewCount': '119'},\n",
       " 'review': {'@type': 'Review',\n",
       "  'reviewRating': {'@type': 'Rating',\n",
       "   'ratingValue': '4',\n",
       "   'bestRating': '5',\n",
       "   'worstRating': '1'},\n",
       "  'author': {'@type': 'Organization', 'name': 'Kavak'}}}"
      ]
     },
     "execution_count": 250,
     "metadata": {},
     "output_type": "execute_result"
    }
   ],
   "source": [
    "res = bs.find('script', attrs={\"id\":'vip-snippet'})\n",
    "json_object = json.loads(res.contents[0])\n",
    "\n",
    "json_object"
   ]
  },
  {
   "cell_type": "code",
   "execution_count": null,
   "metadata": {},
   "outputs": [],
   "source": []
  }
 ],
 "metadata": {
  "kernelspec": {
   "display_name": "Python 3",
   "language": "python",
   "name": "python3"
  },
  "language_info": {
   "codemirror_mode": {
    "name": "ipython",
    "version": 3
   },
   "file_extension": ".py",
   "mimetype": "text/x-python",
   "name": "python",
   "nbconvert_exporter": "python",
   "pygments_lexer": "ipython3",
   "version": "3.8.5"
  }
 },
 "nbformat": 4,
 "nbformat_minor": 4
}
