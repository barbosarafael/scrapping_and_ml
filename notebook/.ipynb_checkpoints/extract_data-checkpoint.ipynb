{
 "cells": [
  {
   "cell_type": "code",
   "execution_count": 1,
   "metadata": {},
   "outputs": [],
   "source": [
    "from urllib.request import urlopen\n",
    "from bs4 import BeautifulSoup\n",
    "import re\n",
    "import pandas as pd\n",
    "import json\n",
    "\n",
    "html = urlopen(\"https://www.kavak.com/br/bmw-320i-gp-turbo-2014-carros-usados-120818\")\n",
    "\n",
    "bs = BeautifulSoup(html, 'html.parser')"
   ]
  },
  {
   "cell_type": "code",
   "execution_count": 2,
   "metadata": {},
   "outputs": [
    {
     "data": {
      "text/plain": [
       "['Tração',\n",
       " 'Transmissão',\n",
       " 'Stock ID',\n",
       " 'Número de Portas',\n",
       " 'Faróis',\n",
       " 'ABS',\n",
       " 'Airbags frontais',\n",
       " 'Airbags laterais',\n",
       " 'Material Assentos',\n",
       " 'CD',\n",
       " 'Rádio',\n",
       " 'Mp3',\n",
       " 'USB',\n",
       " 'Bluethooth']"
      ]
     },
     "execution_count": 2,
     "metadata": {},
     "output_type": "execute_result"
    }
   ],
   "source": [
    "feat_names_bs = bs.find_all('strong')\n",
    "\n",
    "keys_json = []\n",
    "\n",
    "for i in range(0, len(feat_names_bs)):\n",
    "    \n",
    "    keys_json.append(feat_names_bs[i].text.strip())\n",
    "\n",
    "keys_json"
   ]
  },
  {
   "cell_type": "code",
   "execution_count": 3,
   "metadata": {},
   "outputs": [
    {
     "data": {
      "text/plain": [
       "['4x2',\n",
       " 'Automático',\n",
       " '120818',\n",
       " '4',\n",
       " 'Farol de Milha / Neblina',\n",
       " 'ABS',\n",
       " 'Airbags frontais',\n",
       " 'Airbags laterais',\n",
       " 'Couro',\n",
       " 'CD',\n",
       " 'FM/AM',\n",
       " 'Mp3',\n",
       " 'USB',\n",
       " 'Bluethooth']"
      ]
     },
     "execution_count": 3,
     "metadata": {},
     "output_type": "execute_result"
    }
   ],
   "source": [
    "feat_bs = bs.find_all('span',attrs={'class':'feature-value'})\n",
    "\n",
    "values_json = []\n",
    "\n",
    "for i in range(0, len(feat_bs)):\n",
    "    \n",
    "    values_json.append(feat_bs[i].text.strip())\n",
    "\n",
    "values_json"
   ]
  },
  {
   "cell_type": "code",
   "execution_count": 4,
   "metadata": {},
   "outputs": [
    {
     "data": {
      "text/plain": [
       "{'Tração': '4x2',\n",
       " 'Transmissão': 'Automático',\n",
       " 'Stock ID': '120818',\n",
       " 'Número de Portas': '4',\n",
       " 'Faróis': 'Farol de Milha / Neblina',\n",
       " 'ABS': 'ABS',\n",
       " 'Airbags frontais': 'Airbags frontais',\n",
       " 'Airbags laterais': 'Airbags laterais',\n",
       " 'Material Assentos': 'Couro',\n",
       " 'CD': 'CD',\n",
       " 'Rádio': 'FM/AM',\n",
       " 'Mp3': 'Mp3',\n",
       " 'USB': 'USB',\n",
       " 'Bluethooth': 'Bluethooth'}"
      ]
     },
     "execution_count": 4,
     "metadata": {},
     "output_type": "execute_result"
    }
   ],
   "source": [
    "dct = dict((a, b) for a, b in zip(keys_json, values_json))\n",
    "\n",
    "json_of = json.dumps(dct, ensure_ascii=False)\n",
    "\n",
    "json_of = json.loads(json_of)\n",
    "\n",
    "json_of"
   ]
  },
  {
   "cell_type": "markdown",
   "metadata": {},
   "source": [
    "---"
   ]
  },
  {
   "cell_type": "code",
   "execution_count": 5,
   "metadata": {},
   "outputs": [],
   "source": [
    "from urllib.request import urlopen\n",
    "from bs4 import BeautifulSoup\n",
    "import re\n",
    "import pandas as pd\n",
    "\n",
    "html = urlopen(\"https://www.kavak.com/br/hyundai-hb20-unique-2019-carros-usados-141192\")\n",
    "\n",
    "bs_teste = BeautifulSoup(html, 'html.parser')"
   ]
  },
  {
   "cell_type": "code",
   "execution_count": 6,
   "metadata": {},
   "outputs": [
    {
     "data": {
      "text/plain": [
       "['Tração',\n",
       " 'Transmissão',\n",
       " 'Stock ID',\n",
       " 'Número de Portas',\n",
       " 'ABS',\n",
       " 'Airbags frontais',\n",
       " 'Material Assentos',\n",
       " 'Rádio',\n",
       " 'Mp3',\n",
       " 'USB',\n",
       " 'Bluethooth']"
      ]
     },
     "execution_count": 6,
     "metadata": {},
     "output_type": "execute_result"
    }
   ],
   "source": [
    "feat_names_bs = bs_teste.find_all('strong')\n",
    "\n",
    "keys_json_teste = []\n",
    "\n",
    "for i in range(0, len(feat_names_bs)):\n",
    "    \n",
    "    keys_json_teste.append(feat_names_bs[i].text.strip())\n",
    "\n",
    "keys_json_teste"
   ]
  },
  {
   "cell_type": "code",
   "execution_count": 7,
   "metadata": {},
   "outputs": [
    {
     "data": {
      "text/plain": [
       "['4x2',\n",
       " 'Manual',\n",
       " '141192',\n",
       " '4',\n",
       " 'ABS',\n",
       " 'Airbags frontais',\n",
       " 'Tecido',\n",
       " 'FM/AM',\n",
       " 'Mp3',\n",
       " 'USB',\n",
       " 'Bluethooth']"
      ]
     },
     "execution_count": 7,
     "metadata": {},
     "output_type": "execute_result"
    }
   ],
   "source": [
    "feat_bs = bs_teste.find_all('span',attrs={'class':'feature-value'})\n",
    "\n",
    "values_json_teste = []\n",
    "\n",
    "for i in range(0, len(feat_bs)):\n",
    "    \n",
    "    values_json_teste.append(feat_bs[i].text.strip())\n",
    "\n",
    "values_json_teste"
   ]
  },
  {
   "cell_type": "code",
   "execution_count": 8,
   "metadata": {},
   "outputs": [
    {
     "data": {
      "text/plain": [
       "{'Tração': '4x2',\n",
       " 'Transmissão': 'Manual',\n",
       " 'Stock ID': '141192',\n",
       " 'Número de Portas': '4',\n",
       " 'ABS': 'ABS',\n",
       " 'Airbags frontais': 'Airbags frontais',\n",
       " 'Material Assentos': 'Tecido',\n",
       " 'Rádio': 'FM/AM',\n",
       " 'Mp3': 'Mp3',\n",
       " 'USB': 'USB',\n",
       " 'Bluethooth': 'Bluethooth'}"
      ]
     },
     "execution_count": 8,
     "metadata": {},
     "output_type": "execute_result"
    }
   ],
   "source": [
    "dct = dict((a, b) for a, b in zip(keys_json_teste, values_json_teste))\n",
    "\n",
    "json_of_teste = json.dumps(dct, ensure_ascii=False)\n",
    "\n",
    "json_of_teste = json.loads(json_of_teste)\n",
    "\n",
    "json_of_teste"
   ]
  },
  {
   "cell_type": "markdown",
   "metadata": {},
   "source": [
    "---"
   ]
  },
  {
   "cell_type": "code",
   "execution_count": 9,
   "metadata": {},
   "outputs": [],
   "source": [
    "from urllib.request import urlopen\n",
    "from bs4 import BeautifulSoup\n",
    "import re\n",
    "import pandas as pd\n",
    "\n",
    "html = urlopen(\"https://www.kavak.com/br/land-rover-discovery-v6-td6-hse-4wd-2018-carros-usados-124941\")\n",
    "\n",
    "bs_teste123 = BeautifulSoup(html, 'html.parser')"
   ]
  },
  {
   "cell_type": "code",
   "execution_count": 10,
   "metadata": {},
   "outputs": [
    {
     "data": {
      "text/plain": [
       "['Transmissão',\n",
       " 'Tração',\n",
       " 'Stock ID',\n",
       " 'Faróis',\n",
       " 'Faróis',\n",
       " 'Número do aro',\n",
       " 'Material de aro',\n",
       " 'ABS',\n",
       " 'Airbags frontais',\n",
       " 'Airbags laterais',\n",
       " 'Material Assentos',\n",
       " 'Rádio',\n",
       " 'Mp3',\n",
       " 'USB',\n",
       " 'Bluethooth']"
      ]
     },
     "execution_count": 10,
     "metadata": {},
     "output_type": "execute_result"
    }
   ],
   "source": [
    "feat_names_bs = bs_teste123.find_all('strong')\n",
    "\n",
    "keys_json_teste123 = []\n",
    "\n",
    "for i in range(0, len(feat_names_bs)):\n",
    "    \n",
    "    keys_json_teste123.append(feat_names_bs[i].text.strip())\n",
    "\n",
    "keys_json_teste123"
   ]
  },
  {
   "cell_type": "code",
   "execution_count": 11,
   "metadata": {},
   "outputs": [
    {
     "data": {
      "text/plain": [
       "['Automático',\n",
       " '4x2',\n",
       " '124941',\n",
       " 'Farol de Milha / Neblina',\n",
       " 'Faróis Halógenos',\n",
       " '16',\n",
       " 'Alumínio',\n",
       " 'ABS',\n",
       " 'Airbags frontais',\n",
       " 'Airbags laterais',\n",
       " 'Couro',\n",
       " 'FM/AM',\n",
       " 'Mp3',\n",
       " 'USB',\n",
       " 'Bluethooth']"
      ]
     },
     "execution_count": 11,
     "metadata": {},
     "output_type": "execute_result"
    }
   ],
   "source": [
    "feat_bs = bs_teste123.find_all('span',attrs={'class':'feature-value'})\n",
    "\n",
    "values_json_teste123 = []\n",
    "\n",
    "for i in range(0, len(feat_bs)):\n",
    "    \n",
    "    values_json_teste123.append(feat_bs[i].text.strip())\n",
    "\n",
    "values_json_teste123"
   ]
  },
  {
   "cell_type": "code",
   "execution_count": 12,
   "metadata": {},
   "outputs": [
    {
     "data": {
      "text/plain": [
       "{'Transmissão': 'Automático',\n",
       " 'Tração': '4x2',\n",
       " 'Stock ID': '124941',\n",
       " 'Faróis': 'Faróis Halógenos',\n",
       " 'Número do aro': '16',\n",
       " 'Material de aro': 'Alumínio',\n",
       " 'ABS': 'ABS',\n",
       " 'Airbags frontais': 'Airbags frontais',\n",
       " 'Airbags laterais': 'Airbags laterais',\n",
       " 'Material Assentos': 'Couro',\n",
       " 'Rádio': 'FM/AM',\n",
       " 'Mp3': 'Mp3',\n",
       " 'USB': 'USB',\n",
       " 'Bluethooth': 'Bluethooth'}"
      ]
     },
     "execution_count": 12,
     "metadata": {},
     "output_type": "execute_result"
    }
   ],
   "source": [
    "dct = dict((a, b) for a, b in zip(keys_json_teste123, values_json_teste123))\n",
    "\n",
    "json_of_teste123 = json.dumps(dct, ensure_ascii=False)\n",
    "\n",
    "json_of_teste123 = json.loads(json_of_teste123)\n",
    "\n",
    "json_of_teste123"
   ]
  },
  {
   "cell_type": "code",
   "execution_count": 13,
   "metadata": {},
   "outputs": [
    {
     "data": {
      "text/plain": [
       "defaultdict(tuple,\n",
       "            {'Tração': ('4x2', '4x2', '4x2'),\n",
       "             'Transmissão': ('Automático', 'Manual', 'Automático'),\n",
       "             'Stock ID': ('120818', '141192', '124941'),\n",
       "             'Número de Portas': ('4', '4'),\n",
       "             'Faróis': ('Farol de Milha / Neblina', 'Faróis Halógenos'),\n",
       "             'ABS': ('ABS', 'ABS', 'ABS'),\n",
       "             'Airbags frontais': ('Airbags frontais',\n",
       "              'Airbags frontais',\n",
       "              'Airbags frontais'),\n",
       "             'Airbags laterais': ('Airbags laterais', 'Airbags laterais'),\n",
       "             'Material Assentos': ('Couro', 'Tecido', 'Couro'),\n",
       "             'CD': ('CD',),\n",
       "             'Rádio': ('FM/AM', 'FM/AM', 'FM/AM'),\n",
       "             'Mp3': ('Mp3', 'Mp3', 'Mp3'),\n",
       "             'USB': ('USB', 'USB', 'USB'),\n",
       "             'Bluethooth': ('Bluethooth', 'Bluethooth', 'Bluethooth'),\n",
       "             'Número do aro': ('16',),\n",
       "             'Material de aro': ('Alumínio',)})"
      ]
     },
     "execution_count": 13,
     "metadata": {},
     "output_type": "execute_result"
    }
   ],
   "source": [
    "from collections import defaultdict\n",
    "\n",
    "def joinJson(*args):\n",
    "    \n",
    "    dd = defaultdict(tuple)\n",
    "    \n",
    "    for d in (args):\n",
    "        for key, value in d.items():\n",
    "            dd[key] += (value,)\n",
    "    \n",
    "    return dd\n",
    "\n",
    "json_geral = joinJson(json_of, json_of_teste, json_of_teste123)\n",
    "\n",
    "json_geral"
   ]
  },
  {
   "cell_type": "code",
   "execution_count": 14,
   "metadata": {},
   "outputs": [
    {
     "data": {
      "text/html": [
       "<div>\n",
       "<style scoped>\n",
       "    .dataframe tbody tr th:only-of-type {\n",
       "        vertical-align: middle;\n",
       "    }\n",
       "\n",
       "    .dataframe tbody tr th {\n",
       "        vertical-align: top;\n",
       "    }\n",
       "\n",
       "    .dataframe thead th {\n",
       "        text-align: right;\n",
       "    }\n",
       "</style>\n",
       "<table border=\"1\" class=\"dataframe\">\n",
       "  <thead>\n",
       "    <tr style=\"text-align: right;\">\n",
       "      <th></th>\n",
       "      <th>Tração</th>\n",
       "      <th>Transmissão</th>\n",
       "      <th>Stock ID</th>\n",
       "      <th>Número de Portas</th>\n",
       "      <th>Faróis</th>\n",
       "      <th>ABS</th>\n",
       "      <th>Airbags frontais</th>\n",
       "      <th>Airbags laterais</th>\n",
       "      <th>Material Assentos</th>\n",
       "      <th>CD</th>\n",
       "      <th>Rádio</th>\n",
       "      <th>Mp3</th>\n",
       "      <th>USB</th>\n",
       "      <th>Bluethooth</th>\n",
       "      <th>Número do aro</th>\n",
       "      <th>Material de aro</th>\n",
       "    </tr>\n",
       "  </thead>\n",
       "  <tbody>\n",
       "    <tr>\n",
       "      <th>0</th>\n",
       "      <td>4x2</td>\n",
       "      <td>Automático</td>\n",
       "      <td>120818</td>\n",
       "      <td>4</td>\n",
       "      <td>Farol de Milha / Neblina</td>\n",
       "      <td>ABS</td>\n",
       "      <td>Airbags frontais</td>\n",
       "      <td>Airbags laterais</td>\n",
       "      <td>Couro</td>\n",
       "      <td>CD</td>\n",
       "      <td>FM/AM</td>\n",
       "      <td>Mp3</td>\n",
       "      <td>USB</td>\n",
       "      <td>Bluethooth</td>\n",
       "      <td>16</td>\n",
       "      <td>Alumínio</td>\n",
       "    </tr>\n",
       "    <tr>\n",
       "      <th>1</th>\n",
       "      <td>4x2</td>\n",
       "      <td>Manual</td>\n",
       "      <td>141192</td>\n",
       "      <td>4</td>\n",
       "      <td>Faróis Halógenos</td>\n",
       "      <td>ABS</td>\n",
       "      <td>Airbags frontais</td>\n",
       "      <td>Airbags laterais</td>\n",
       "      <td>Tecido</td>\n",
       "      <td>None</td>\n",
       "      <td>FM/AM</td>\n",
       "      <td>Mp3</td>\n",
       "      <td>USB</td>\n",
       "      <td>Bluethooth</td>\n",
       "      <td>None</td>\n",
       "      <td>None</td>\n",
       "    </tr>\n",
       "    <tr>\n",
       "      <th>2</th>\n",
       "      <td>4x2</td>\n",
       "      <td>Automático</td>\n",
       "      <td>124941</td>\n",
       "      <td>None</td>\n",
       "      <td>None</td>\n",
       "      <td>ABS</td>\n",
       "      <td>Airbags frontais</td>\n",
       "      <td>None</td>\n",
       "      <td>Couro</td>\n",
       "      <td>None</td>\n",
       "      <td>FM/AM</td>\n",
       "      <td>Mp3</td>\n",
       "      <td>USB</td>\n",
       "      <td>Bluethooth</td>\n",
       "      <td>None</td>\n",
       "      <td>None</td>\n",
       "    </tr>\n",
       "  </tbody>\n",
       "</table>\n",
       "</div>"
      ],
      "text/plain": [
       "  Tração Transmissão Stock ID Número de Portas                    Faróis  ABS  \\\n",
       "0    4x2  Automático   120818                4  Farol de Milha / Neblina  ABS   \n",
       "1    4x2      Manual   141192                4          Faróis Halógenos  ABS   \n",
       "2    4x2  Automático   124941             None                      None  ABS   \n",
       "\n",
       "   Airbags frontais  Airbags laterais Material Assentos    CD  Rádio  Mp3  \\\n",
       "0  Airbags frontais  Airbags laterais             Couro    CD  FM/AM  Mp3   \n",
       "1  Airbags frontais  Airbags laterais            Tecido  None  FM/AM  Mp3   \n",
       "2  Airbags frontais              None             Couro  None  FM/AM  Mp3   \n",
       "\n",
       "   USB  Bluethooth Número do aro Material de aro  \n",
       "0  USB  Bluethooth            16        Alumínio  \n",
       "1  USB  Bluethooth          None            None  \n",
       "2  USB  Bluethooth          None            None  "
      ]
     },
     "execution_count": 14,
     "metadata": {},
     "output_type": "execute_result"
    }
   ],
   "source": [
    "df_final = pd.DataFrame.from_dict(json_geral, orient ='index').T\n",
    "\n",
    "df_final"
   ]
  },
  {
   "cell_type": "code",
   "execution_count": 15,
   "metadata": {},
   "outputs": [
    {
     "data": {
      "text/plain": [
       "'104299'"
      ]
     },
     "execution_count": 15,
     "metadata": {},
     "output_type": "execute_result"
    }
   ],
   "source": [
    "preco = re.findall('(?<=Preço).*', bs.find_all('title')[0].text)[0].replace(': R$', '')\n",
    "\n",
    "preco"
   ]
  },
  {
   "cell_type": "code",
   "execution_count": 16,
   "metadata": {},
   "outputs": [
    {
     "data": {
      "text/plain": [
       "{'@context': 'https://schema.org/',\n",
       " '@type': 'Vehicle',\n",
       " 'name': 'Bmw 320i GP TURBO',\n",
       " 'itemCondition': 'Used',\n",
       " 'description': 'Bmw 320i GP TURBO  2014  está em perfeito estado Condição mecânica e elétrica com quilômetros baixos. É impressionante o motor turbo de . Cada viagem é uma experiência divertida. Bem atendido por um proprietário com histórico de serviço completo. Trata-se como novo e só fez 105869 KM',\n",
       " 'brand': 'Bmw',\n",
       " 'model': '320i',\n",
       " 'modelDate': '2014',\n",
       " 'manufacturer': 'Bmw',\n",
       " 'color': '',\n",
       " 'mileageFromOdometer': '105869',\n",
       " 'sku': '120818',\n",
       " 'mpn': '120818',\n",
       " 'vehicleIdentificationNumber': '120818',\n",
       " 'vehicleConfiguration': 'hp',\n",
       " 'bodyType': None,\n",
       " 'vehicleSeatingCapacity': ' pasajeros',\n",
       " 'vehicleEngine': '',\n",
       " 'vehicleTransmission': 'Automático',\n",
       " 'fueltype': '',\n",
       " 'offers': {'@type': 'Offer',\n",
       "  'url': 'https://www.kavak.com/br/bmw-320i-gp-turbo-2014-carros-usados-120818',\n",
       "  'priceCurrency': 'MXN',\n",
       "  'price': '104299',\n",
       "  'priceValidUntil': 'January 1, 2030',\n",
       "  'availability': 'https://schema.org/InStock'},\n",
       " 'aggregateRating': {'@type': 'AggregateRating',\n",
       "  'ratingValue': '4.75',\n",
       "  'reviewCount': '119'},\n",
       " 'review': {'@type': 'Review',\n",
       "  'reviewRating': {'@type': 'Rating',\n",
       "   'ratingValue': '4',\n",
       "   'bestRating': '5',\n",
       "   'worstRating': '1'},\n",
       "  'author': {'@type': 'Organization', 'name': 'Kavak'}}}"
      ]
     },
     "execution_count": 16,
     "metadata": {},
     "output_type": "execute_result"
    }
   ],
   "source": [
    "#--- JSON\n",
    "\n",
    "import json\n",
    "\n",
    "res = bs.find('script', attrs={\"id\":'vip-snippet'})\n",
    "json_object = json.loads(res.contents[0])\n",
    "\n",
    "json_object"
   ]
  },
  {
   "cell_type": "code",
   "execution_count": 17,
   "metadata": {},
   "outputs": [
    {
     "data": {
      "text/plain": [
       "{'@context': 'https://schema.org/',\n",
       " '@type': 'Vehicle',\n",
       " 'name': 'Bmw 320i GP TURBO',\n",
       " 'itemCondition': 'Used',\n",
       " 'description': 'Bmw 320i GP TURBO  2014  está em perfeito estado Condição mecânica e elétrica com quilômetros baixos. É impressionante o motor turbo de . Cada viagem é uma experiência divertida. Bem atendido por um proprietário com histórico de serviço completo. Trata-se como novo e só fez 105869 KM',\n",
       " 'brand': 'Bmw',\n",
       " 'model': '320i',\n",
       " 'modelDate': '2014',\n",
       " 'manufacturer': 'Bmw',\n",
       " 'color': '',\n",
       " 'mileageFromOdometer': '105869',\n",
       " 'sku': '120818',\n",
       " 'mpn': '120818',\n",
       " 'vehicleIdentificationNumber': '120818',\n",
       " 'vehicleConfiguration': 'hp',\n",
       " 'bodyType': None,\n",
       " 'vehicleSeatingCapacity': ' pasajeros',\n",
       " 'vehicleEngine': '',\n",
       " 'vehicleTransmission': 'Automático',\n",
       " 'fueltype': '',\n",
       " 'offers': {'@type': 'Offer',\n",
       "  'url': 'https://www.kavak.com/br/bmw-320i-gp-turbo-2014-carros-usados-120818',\n",
       "  'priceCurrency': 'MXN',\n",
       "  'price': '104299',\n",
       "  'priceValidUntil': 'January 1, 2030',\n",
       "  'availability': 'https://schema.org/InStock'},\n",
       " 'aggregateRating': {'@type': 'AggregateRating',\n",
       "  'ratingValue': '4.75',\n",
       "  'reviewCount': '119'},\n",
       " 'review': {'@type': 'Review',\n",
       "  'reviewRating': {'@type': 'Rating',\n",
       "   'ratingValue': '4',\n",
       "   'bestRating': '5',\n",
       "   'worstRating': '1'},\n",
       "  'author': {'@type': 'Organization', 'name': 'Kavak'}}}"
      ]
     },
     "execution_count": 17,
     "metadata": {},
     "output_type": "execute_result"
    }
   ],
   "source": [
    "res = bs.find('script', attrs={\"id\":'vip-snippet'})\n",
    "json_object = json.loads(res.contents[0])\n",
    "\n",
    "json_object"
   ]
  },
  {
   "cell_type": "code",
   "execution_count": 18,
   "metadata": {},
   "outputs": [
    {
     "data": {
      "text/plain": [
       "'Vehicle'"
      ]
     },
     "execution_count": 18,
     "metadata": {},
     "output_type": "execute_result"
    }
   ],
   "source": [
    "json_object['@type']"
   ]
  },
  {
   "cell_type": "code",
   "execution_count": 19,
   "metadata": {},
   "outputs": [
    {
     "data": {
      "text/plain": [
       "'Used'"
      ]
     },
     "execution_count": 19,
     "metadata": {},
     "output_type": "execute_result"
    }
   ],
   "source": [
    "json_object['itemCondition']"
   ]
  },
  {
   "cell_type": "code",
   "execution_count": 20,
   "metadata": {},
   "outputs": [
    {
     "data": {
      "text/plain": [
       "'Bmw'"
      ]
     },
     "execution_count": 20,
     "metadata": {},
     "output_type": "execute_result"
    }
   ],
   "source": [
    "json_object['brand']"
   ]
  },
  {
   "cell_type": "code",
   "execution_count": 21,
   "metadata": {},
   "outputs": [
    {
     "data": {
      "text/plain": [
       "'320i'"
      ]
     },
     "execution_count": 21,
     "metadata": {},
     "output_type": "execute_result"
    }
   ],
   "source": [
    "json_object['model']"
   ]
  },
  {
   "cell_type": "code",
   "execution_count": 22,
   "metadata": {},
   "outputs": [
    {
     "data": {
      "text/plain": [
       "'2014'"
      ]
     },
     "execution_count": 22,
     "metadata": {},
     "output_type": "execute_result"
    }
   ],
   "source": [
    "json_object['modelDate']"
   ]
  },
  {
   "cell_type": "code",
   "execution_count": 23,
   "metadata": {},
   "outputs": [
    {
     "data": {
      "text/plain": [
       "''"
      ]
     },
     "execution_count": 23,
     "metadata": {},
     "output_type": "execute_result"
    }
   ],
   "source": [
    "json_object['color']"
   ]
  },
  {
   "cell_type": "code",
   "execution_count": 24,
   "metadata": {},
   "outputs": [
    {
     "data": {
      "text/plain": [
       "'105869'"
      ]
     },
     "execution_count": 24,
     "metadata": {},
     "output_type": "execute_result"
    }
   ],
   "source": [
    "json_object['mileageFromOdometer']"
   ]
  },
  {
   "cell_type": "code",
   "execution_count": 25,
   "metadata": {},
   "outputs": [
    {
     "data": {
      "text/plain": [
       "'hp'"
      ]
     },
     "execution_count": 25,
     "metadata": {},
     "output_type": "execute_result"
    }
   ],
   "source": [
    "json_object['vehicleConfiguration']"
   ]
  }
 ],
 "metadata": {
  "kernelspec": {
   "display_name": "Python 3",
   "language": "python",
   "name": "python3"
  },
  "language_info": {
   "codemirror_mode": {
    "name": "ipython",
    "version": 3
   },
   "file_extension": ".py",
   "mimetype": "text/x-python",
   "name": "python",
   "nbconvert_exporter": "python",
   "pygments_lexer": "ipython3",
   "version": "3.8.5"
  }
 },
 "nbformat": 4,
 "nbformat_minor": 4
}
